{
 "cells": [
  {
   "cell_type": "code",
   "execution_count": 1,
   "id": "c9808a09",
   "metadata": {},
   "outputs": [],
   "source": [
    "import yfinance as yf\n",
    "import pandas as pd\n",
    "import requests\n",
    "import plotly.graph_objects as go"
   ]
  },
  {
   "cell_type": "code",
   "execution_count": 2,
   "id": "346dc07a",
   "metadata": {},
   "outputs": [],
   "source": [
    "def get_stock_data(ticker, start, end):\n",
    "    stock = yf.Ticker(ticker)\n",
    "    stock_data = stock.history(start=start, end=end)\n",
    "    stock_data.reset_index(inplace=True)\n",
    "    stock_data = stock_data[[\"Date\", \"Close\"]]\n",
    "    stock_data.rename(columns={\"Close\": \"Stock Price\"}, inplace=True)\n",
    "    return stock_data"
   ]
  },
  {
   "cell_type": "code",
   "execution_count": 3,
   "id": "12bf69f8",
   "metadata": {},
   "outputs": [],
   "source": [
    "def get_revenue_data(ticker, start, end):\n",
    "    url = f\"https://www.macrotrends.net/stocks/charts/{ticker}/{ticker.lower()}/revenue\"\n",
    "    headers = {\"User-Agent\": \"Mozilla/5.0\"}\n",
    "    html = requests.get(url, headers=headers).text\n",
    "    tables = pd.read_html(html)\n",
    "    revenue = tables[1]\n",
    "    revenue.columns = [\"Date\", \"Revenue\"]\n",
    "    revenue.dropna(inplace=True)\n",
    "    revenue = revenue[revenue[\"Revenue\"] != \"TTM\"]\n",
    "    revenue[\"Revenue\"] = revenue[\"Revenue\"].str.replace(r\"[\\$,]\", \"\", regex=True)\n",
    "    revenue = revenue[revenue[\"Revenue\"] != \"\"]\n",
    "    revenue[\"Revenue\"] = revenue[\"Revenue\"].astype(float)\n",
    "    revenue[\"Date\"] = pd.to_datetime(revenue[\"Date\"])\n",
    "    revenue = revenue.sort_values(\"Date\", ascending=True).reset_index(drop=True)\n",
    "    return revenue"
   ]
  },
  {
   "cell_type": "code",
   "execution_count": 4,
   "id": "85a9f986",
   "metadata": {},
   "outputs": [],
   "source": [
    "def get_netprofit_data(ticker):\n",
    "    stock = yf.Ticker(ticker)\n",
    "    financials = stock.financials\n",
    "    net_income = financials.loc[\"Net Income\"]\n",
    "    revenue = financials.loc[\"Total Revenue\"]\n",
    "    netprofit = (net_income / revenue) * 100\n",
    "    netprofit = netprofit.reset_index()\n",
    "    netprofit.columns = [\"Date\", \"Net Profit Margin %\"]\n",
    "    netprofit.dropna(inplace=True)\n",
    "    netprofit[\"Date\"] = pd.to_datetime(netprofit[\"Date\"])\n",
    "    netprofit = netprofit.sort_values(\"Date\").reset_index(drop=True)\n",
    "    return netprofit"
   ]
  },
  {
   "cell_type": "code",
   "execution_count": 5,
   "id": "4aa2f3c0",
   "metadata": {},
   "outputs": [],
   "source": [
    "def plot_graph(stock_data, revenue_data, ticker):\n",
    "    fig = go.Figure()\n",
    "    fig.add_trace(\n",
    "        go.Scatter(\n",
    "            x=stock_data[\"Date\"],\n",
    "            y=stock_data[\"Stock Price\"],\n",
    "            name=\"Stock Price\",\n",
    "            mode=\"lines\",\n",
    "        )\n",
    "    )\n",
    "    fig.add_trace(\n",
    "        go.Scatter(\n",
    "            x=revenue_data[\"Date\"],\n",
    "            y=revenue_data[\"Revenue\"],\n",
    "            name=\"Revenue (Millions)\",\n",
    "            mode=\"lines\",\n",
    "            yaxis=\"y2\",\n",
    "        )\n",
    "    )\n",
    "\n",
    "    fig.update_layout(\n",
    "        title=f\"{ticker.upper()} Stock Price vs Revenue\",\n",
    "        xaxis_title=\"Date\",\n",
    "        yaxis_title=\"Stock Price\",\n",
    "        yaxis2=dict(title=\"Revenue (Millions)\", overlaying=\"y\", side=\"right\"),\n",
    "        legend=dict(x=0.1, y=0.9),\n",
    "    )\n",
    "    fig.show()"
   ]
  },
  {
   "cell_type": "code",
   "execution_count": 6,
   "id": "8b41c1ea",
   "metadata": {},
   "outputs": [],
   "source": [
    "def plot_netprofit(netprofit, ticker):\n",
    "    fig = go.Figure()\n",
    "    fig.add_trace(\n",
    "        go.Scatter(\n",
    "            x=netprofit[\"Date\"],\n",
    "            y=netprofit[\"Net Profit Margin %\"],\n",
    "            mode=\"lines+markers\",\n",
    "            name=\"Net Profit Margin %\",\n",
    "        )\n",
    "    )\n",
    "    fig.update_layout(\n",
    "        title=f\"{ticker.upper()} Net Profit Margin Over Time\",\n",
    "        xaxis_title=\"Date\",\n",
    "        yaxis_title=\"Net Profit Margin %\",\n",
    "    )\n",
    "    fig.show()"
   ]
  },
  {
   "cell_type": "code",
   "execution_count": 7,
   "id": "325b3798",
   "metadata": {},
   "outputs": [
    {
     "ename": "ValueError",
     "evalue": "Empty ticker name",
     "output_type": "error",
     "traceback": [
      "\u001b[31m---------------------------------------------------------------------------\u001b[39m",
      "\u001b[31mValueError\u001b[39m                                Traceback (most recent call last)",
      "\u001b[36mCell\u001b[39m\u001b[36m \u001b[39m\u001b[32mIn[7]\u001b[39m\u001b[32m, line 4\u001b[39m\n\u001b[32m      2\u001b[39m start = \u001b[38;5;28minput\u001b[39m(\u001b[33m\"\u001b[39m\u001b[33mEnter start date (YYYY-MM-DD): \u001b[39m\u001b[33m\"\u001b[39m)\n\u001b[32m      3\u001b[39m end = \u001b[38;5;28minput\u001b[39m(\u001b[33m\"\u001b[39m\u001b[33mEnter end date (YYYY-MM-DD): \u001b[39m\u001b[33m\"\u001b[39m)\n\u001b[32m----> \u001b[39m\u001b[32m4\u001b[39m stock_data = \u001b[43mget_stock_data\u001b[49m\u001b[43m(\u001b[49m\u001b[43mticker\u001b[49m\u001b[43m,\u001b[49m\u001b[43m \u001b[49m\u001b[43mstart\u001b[49m\u001b[43m=\u001b[49m\u001b[43mstart\u001b[49m\u001b[43m,\u001b[49m\u001b[43m \u001b[49m\u001b[43mend\u001b[49m\u001b[43m=\u001b[49m\u001b[43mend\u001b[49m\u001b[43m)\u001b[49m\n\u001b[32m      5\u001b[39m revenue_data = get_revenue_data(ticker, start=start, end=end)\n\u001b[32m      6\u001b[39m netprofit_data = get_netprofit_data(ticker)\n",
      "\u001b[36mCell\u001b[39m\u001b[36m \u001b[39m\u001b[32mIn[2]\u001b[39m\u001b[32m, line 2\u001b[39m, in \u001b[36mget_stock_data\u001b[39m\u001b[34m(ticker, start, end)\u001b[39m\n\u001b[32m      1\u001b[39m \u001b[38;5;28;01mdef\u001b[39;00m\u001b[38;5;250m \u001b[39m\u001b[34mget_stock_data\u001b[39m(ticker, start, end):\n\u001b[32m----> \u001b[39m\u001b[32m2\u001b[39m     stock = \u001b[43myf\u001b[49m\u001b[43m.\u001b[49m\u001b[43mTicker\u001b[49m\u001b[43m(\u001b[49m\u001b[43mticker\u001b[49m\u001b[43m)\u001b[49m\n\u001b[32m      3\u001b[39m     stock_data = stock.history(start=start, end=end)\n\u001b[32m      4\u001b[39m     stock_data.reset_index(inplace=\u001b[38;5;28;01mTrue\u001b[39;00m)\n",
      "\u001b[36mFile \u001b[39m\u001b[32m~\\AppData\\Roaming\\Python\\Python313\\site-packages\\yfinance\\ticker.py:39\u001b[39m, in \u001b[36mTicker.__init__\u001b[39m\u001b[34m(self, ticker, session, proxy)\u001b[39m\n\u001b[32m     37\u001b[39m     warnings.warn(\u001b[33m\"\u001b[39m\u001b[33mSet proxy via new config function: yf.set_config(proxy=proxy)\u001b[39m\u001b[33m\"\u001b[39m, \u001b[38;5;167;01mDeprecationWarning\u001b[39;00m, stacklevel=\u001b[32m2\u001b[39m)\n\u001b[32m     38\u001b[39m     \u001b[38;5;28mself\u001b[39m._data._set_proxy(proxy)\n\u001b[32m---> \u001b[39m\u001b[32m39\u001b[39m \u001b[38;5;28;43msuper\u001b[39;49m\u001b[43m(\u001b[49m\u001b[43mTicker\u001b[49m\u001b[43m,\u001b[49m\u001b[43m \u001b[49m\u001b[38;5;28;43mself\u001b[39;49m\u001b[43m)\u001b[49m\u001b[43m.\u001b[49m\u001b[34;43m__init__\u001b[39;49m\u001b[43m(\u001b[49m\u001b[43mticker\u001b[49m\u001b[43m,\u001b[49m\u001b[43m \u001b[49m\u001b[43msession\u001b[49m\u001b[43m=\u001b[49m\u001b[43msession\u001b[49m\u001b[43m)\u001b[49m\n\u001b[32m     40\u001b[39m \u001b[38;5;28mself\u001b[39m._expirations = {}\n\u001b[32m     41\u001b[39m \u001b[38;5;28mself\u001b[39m._underlying  = {}\n",
      "\u001b[36mFile \u001b[39m\u001b[32m~\\AppData\\Roaming\\Python\\Python313\\site-packages\\yfinance\\base.py:67\u001b[39m, in \u001b[36mTickerBase.__init__\u001b[39m\u001b[34m(self, ticker, session, proxy)\u001b[39m\n\u001b[32m     65\u001b[39m \u001b[38;5;66;03m# raise an error if user tries to give empty ticker\u001b[39;00m\n\u001b[32m     66\u001b[39m \u001b[38;5;28;01mif\u001b[39;00m \u001b[38;5;28mself\u001b[39m.ticker == \u001b[33m\"\u001b[39m\u001b[33m\"\u001b[39m:\n\u001b[32m---> \u001b[39m\u001b[32m67\u001b[39m     \u001b[38;5;28;01mraise\u001b[39;00m \u001b[38;5;167;01mValueError\u001b[39;00m(\u001b[33m\"\u001b[39m\u001b[33mEmpty ticker name\u001b[39m\u001b[33m\"\u001b[39m)\n\u001b[32m     69\u001b[39m \u001b[38;5;28mself\u001b[39m._data: YfData = YfData(session=session)\n\u001b[32m     70\u001b[39m \u001b[38;5;28;01mif\u001b[39;00m proxy \u001b[38;5;129;01mis\u001b[39;00m \u001b[38;5;129;01mnot\u001b[39;00m _SENTINEL_:\n",
      "\u001b[31mValueError\u001b[39m: Empty ticker name"
     ]
    }
   ],
   "source": [
    "ticker = input(\"Enter a stock ticker symbol (e.g., TSLA, GME, AAPL): \").upper()\n",
    "start = input(\"Enter start date (YYYY-MM-DD): \")\n",
    "end = input(\"Enter end date (YYYY-MM-DD): \")\n",
    "stock_data = get_stock_data(ticker, start=start, end=end)\n",
    "revenue_data = get_revenue_data(ticker, start=start, end=end)\n",
    "netprofit_data = get_netprofit_data(ticker)\n",
    "revenue_data = revenue_data[\n",
    "    (revenue_data[\"Date\"] >= start) & (revenue_data[\"Date\"] <= end)\n",
    "]\n",
    "plot_graph(stock_data, revenue_data, ticker)\n",
    "plot_netprofit(netprofit_data, ticker)"
   ]
  }
 ],
 "metadata": {
  "kernelspec": {
   "display_name": "Python 3",
   "language": "python",
   "name": "python3"
  },
  "language_info": {
   "codemirror_mode": {
    "name": "ipython",
    "version": 3
   },
   "file_extension": ".py",
   "mimetype": "text/x-python",
   "name": "python",
   "nbconvert_exporter": "python",
   "pygments_lexer": "ipython3",
   "version": "3.13.7"
  }
 },
 "nbformat": 4,
 "nbformat_minor": 5
}
